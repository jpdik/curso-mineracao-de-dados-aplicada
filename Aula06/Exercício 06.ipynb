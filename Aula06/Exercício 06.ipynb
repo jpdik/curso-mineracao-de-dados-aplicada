{
 "cells": [
  {
   "cell_type": "code",
   "execution_count": 1,
   "metadata": {},
   "outputs": [],
   "source": [
    "import pandas as pd\n",
    "import numpy as np\n",
    "from nltk import word_tokenize\n",
    "import nltk\n",
    "from string import punctuation\n",
    "from sklearn.decomposition import NMF\n",
    "import json\n",
    "from sklearn.metrics.pairwise import cosine_similarity\n",
    "\n",
    "\n",
    "# Vetorização\n",
    "from sklearn.feature_extraction.text import TfidfVectorizer, TfidfTransformer\n",
    "from sklearn.cluster import KMeans\n",
    "from xgboost import XGBClassifier\n",
    "\n",
    "\n",
    "from sklearn.model_selection import train_test_split\n",
    "from sklearn import metrics\n",
    "from sklearn.model_selection import cross_val_score"
   ]
  },
  {
   "cell_type": "code",
   "execution_count": 2,
   "metadata": {},
   "outputs": [],
   "source": [
    "stopwords = nltk.corpus.stopwords.words('portuguese')\n",
    "numbers = '0123456789'"
   ]
  },
  {
   "cell_type": "code",
   "execution_count": 3,
   "metadata": {},
   "outputs": [
    {
     "data": {
      "text/html": [
       "<div>\n",
       "<style scoped>\n",
       "    .dataframe tbody tr th:only-of-type {\n",
       "        vertical-align: middle;\n",
       "    }\n",
       "\n",
       "    .dataframe tbody tr th {\n",
       "        vertical-align: top;\n",
       "    }\n",
       "\n",
       "    .dataframe thead th {\n",
       "        text-align: right;\n",
       "    }\n",
       "</style>\n",
       "<table border=\"1\" class=\"dataframe\">\n",
       "  <thead>\n",
       "    <tr style=\"text-align: right;\">\n",
       "      <th></th>\n",
       "      <th>noticia</th>\n",
       "      <th>target</th>\n",
       "    </tr>\n",
       "  </thead>\n",
       "  <tbody>\n",
       "    <tr>\n",
       "      <th>16309</th>\n",
       "      <td>Desenvolvedores do Ethereum preparam grandes n...</td>\n",
       "      <td>0</td>\n",
       "    </tr>\n",
       "    <tr>\n",
       "      <th>16310</th>\n",
       "      <td>Ripple firma-se como a segunda maior criptomoe...</td>\n",
       "      <td>0</td>\n",
       "    </tr>\n",
       "    <tr>\n",
       "      <th>16311</th>\n",
       "      <td>Bitcoin se recuperam e ganha impulso de alta\\r...</td>\n",
       "      <td>0</td>\n",
       "    </tr>\n",
       "    <tr>\n",
       "      <th>16312</th>\n",
       "      <td>Essas 24 ICOs arrecadaram 2,8 bilhões de dólar...</td>\n",
       "      <td>0</td>\n",
       "    </tr>\n",
       "    <tr>\n",
       "      <th>16313</th>\n",
       "      <td>Razões pelas quais o Bitcoin pode valer 6 mil ...</td>\n",
       "      <td>0</td>\n",
       "    </tr>\n",
       "  </tbody>\n",
       "</table>\n",
       "</div>"
      ],
      "text/plain": [
       "                                                 noticia  target\n",
       "16309  Desenvolvedores do Ethereum preparam grandes n...       0\n",
       "16310  Ripple firma-se como a segunda maior criptomoe...       0\n",
       "16311  Bitcoin se recuperam e ganha impulso de alta\\r...       0\n",
       "16312  Essas 24 ICOs arrecadaram 2,8 bilhões de dólar...       0\n",
       "16313  Razões pelas quais o Bitcoin pode valer 6 mil ...       0"
      ]
     },
     "execution_count": 3,
     "metadata": {},
     "output_type": "execute_result"
    }
   ],
   "source": [
    "df = pd.read_csv('noticias.csv')\n",
    "df.tail()"
   ]
  },
  {
   "cell_type": "code",
   "execution_count": 4,
   "metadata": {},
   "outputs": [
    {
     "data": {
      "text/plain": [
       "16309    0\n",
       "16310    0\n",
       "16311    0\n",
       "16312    0\n",
       "16313    0\n",
       "Name: target, dtype: int64"
      ]
     },
     "execution_count": 4,
     "metadata": {},
     "output_type": "execute_result"
    }
   ],
   "source": [
    "df_target = df['target']\n",
    "df_target.tail()"
   ]
  },
  {
   "cell_type": "code",
   "execution_count": 85,
   "metadata": {},
   "outputs": [
    {
     "data": {
      "text/plain": [
       "0    carona deyverson atacante palmeiras abre casa ...\n",
       "1    river x boca final libertadores madri bênção f...\n",
       "2    e-brasileirão assista vivo fase final campeona...\n",
       "3    inauguração estátua renato gaúcho grêmio fica ...\n",
       "4    zagallo visita novo ct flamengo antes inaugura...\n",
       "Name: doc, dtype: object"
      ]
     },
     "execution_count": 85,
     "metadata": {},
     "output_type": "execute_result"
    }
   ],
   "source": [
    "def processa(row):\n",
    "    txt = row['noticia']\n",
    "    \n",
    "    return ' '.join([t for t in word_tokenize(txt.lower()) if (t not in stopwords) and (t not in punctuation) and (not t.isdigit())])\n",
    "\n",
    "df['doc'] = df.apply(processa, axis=1)\n",
    "\n",
    "df['doc'].head()"
   ]
  },
  {
   "cell_type": "code",
   "execution_count": 87,
   "metadata": {},
   "outputs": [],
   "source": [
    "df.to_csv('noticias_processadas.csv', index=False)"
   ]
  },
  {
   "cell_type": "code",
   "execution_count": 84,
   "metadata": {},
   "outputs": [
    {
     "data": {
      "text/plain": [
       "<1x147 sparse matrix of type '<class 'numpy.float64'>'\n",
       "\twith 147 stored elements in Compressed Sparse Row format>"
      ]
     },
     "execution_count": 84,
     "metadata": {},
     "output_type": "execute_result"
    }
   ],
   "source": [
    "vectorizer = TfidfVectorizer(max_features=20000)\n",
    "\n",
    "tfidf_matrix = vectorizer.fit(df['doc'])\n",
    "tfidf_matrix = vectorizer.transform(df['doc'])\n",
    "tfidf_matrix"
   ]
  },
  {
   "cell_type": "code",
   "execution_count": 79,
   "metadata": {},
   "outputs": [
    {
     "name": "stdout",
     "output_type": "stream",
     "text": [
      "(16314, 20000) (16314,)\n",
      "(0, 20000) (0,)\n"
     ]
    },
    {
     "data": {
      "text/plain": [
       "<16314x20000 sparse matrix of type '<class 'numpy.float64'>'\n",
       "\twith 2291713 stored elements in Compressed Sparse Row format>"
      ]
     },
     "execution_count": 79,
     "metadata": {},
     "output_type": "execute_result"
    }
   ],
   "source": [
    "X_train, X_test, y_train, y_test = train_test_split(\n",
    "    tfidf_matrix, \n",
    "    df_target, \n",
    "    test_size=0.00, \n",
    "    random_state=1\n",
    ")\n",
    "\n",
    "print(X_train.shape, y_train.shape)\n",
    "print(X_test.shape, y_test.shape)\n",
    "\n",
    "X_train"
   ]
  },
  {
   "cell_type": "code",
   "execution_count": 8,
   "metadata": {},
   "outputs": [],
   "source": [
    "# Modelo\n",
    "m = XGBClassifier(\n",
    "    n_jobs=4,\n",
    "    random_state=1\n",
    ")"
   ]
  },
  {
   "cell_type": "code",
   "execution_count": 80,
   "metadata": {},
   "outputs": [
    {
     "data": {
      "text/plain": [
       "0.9995620410568785"
      ]
     },
     "execution_count": 80,
     "metadata": {},
     "output_type": "execute_result"
    }
   ],
   "source": [
    "# Validação local\n",
    "np.mean(\n",
    "    cross_val_score(\n",
    "        m,\n",
    "        X_train,\n",
    "        y_train,\n",
    "        cv=3,\n",
    "        scoring='roc_auc'\n",
    "    )\n",
    ")"
   ]
  },
  {
   "cell_type": "code",
   "execution_count": 16,
   "metadata": {},
   "outputs": [],
   "source": [
    "# Gerando a previsão para o arquivo de teste\n",
    "m.fit(\n",
    "    X_train,\n",
    "    y_train\n",
    ")"
   ]
  },
  {
   "cell_type": "code",
   "execution_count": 117,
   "metadata": {},
   "outputs": [],
   "source": [
    "noticia = '''Keyla falou por 10 minutos sobre o pedido de prisão do marido, negando sempre com veemência as acusações de abuso sexual apresentadas por centenas de mulheres contra João de Deus. Ela disse acreditar que tudo não passa de uma farsa, “um circo que montaram contra ele”.\n",
    "– Eu acredito na inocência dele. Eu acho que é um grande circo que montaram contra ele, uma mentira. As pessoas que vêm aqui são pessoas com problemas. Elas tem problemas psicológicos. Todas resolveram dizer algo agora, mas sem fundamento. João é uma pessoa próxima, afetuosa. No momento certo a gente vai se pronunciar – afirmou ao GLOBO.\n",
    "A mulher do líder espiritual estava visivelmente abalada. Falava no telefone a todo instante, enquanto uma babá segurava as crianças. Uma das ligações recebidas foi do próprio João de Deus. Ela disse a ele que as crianças, que a essa altura gritavam “papai”, queriam vê-lo.\n",
    "Keyla disse que o médium tem a confiança dela e de todos que trabalham com ele na cidade. Ao avaliar a onda de denúncias de abuso sexual que se ergueu contra o marido, ela disse que \"não sabia como tudo iria terminar\", mas que ela \"estaria do lado dele para tudo\".'''"
   ]
  },
  {
   "cell_type": "code",
   "execution_count": 110,
   "metadata": {},
   "outputs": [],
   "source": [
    "def pre_processar(noticia):\n",
    "    global vectorizer\n",
    "    \n",
    "    txt = noticia\n",
    "    \n",
    "    return' '.join([t for t in word_tokenize(txt.lower()) if (t not in stopwords) and (t not in punctuation) and (not t.isdigit())])"
   ]
  },
  {
   "cell_type": "code",
   "execution_count": 58,
   "metadata": {},
   "outputs": [
    {
     "data": {
      "text/plain": [
       "16313    razões quais bitcoin pode valer mil dólares br...\n",
       "Name: doc, dtype: object"
      ]
     },
     "execution_count": 58,
     "metadata": {},
     "output_type": "execute_result"
    }
   ],
   "source": [
    "df['doc'][-1:]"
   ]
  },
  {
   "cell_type": "code",
   "execution_count": 63,
   "metadata": {},
   "outputs": [
    {
     "name": "stdout",
     "output_type": "stream",
     "text": [
      "                                                   0\n",
      "0  keyla falou minutos sobre pedido prisão marido...\n"
     ]
    }
   ],
   "source": [
    "pred = m.predict_proba(pre_processar(noticia))[:,1]"
   ]
  },
  {
   "cell_type": "code",
   "execution_count": 19,
   "metadata": {},
   "outputs": [
    {
     "data": {
      "text/html": [
       "<div>\n",
       "<style scoped>\n",
       "    .dataframe tbody tr th:only-of-type {\n",
       "        vertical-align: middle;\n",
       "    }\n",
       "\n",
       "    .dataframe tbody tr th {\n",
       "        vertical-align: top;\n",
       "    }\n",
       "\n",
       "    .dataframe thead th {\n",
       "        text-align: right;\n",
       "    }\n",
       "</style>\n",
       "<table border=\"1\" class=\"dataframe\">\n",
       "  <thead>\n",
       "    <tr style=\"text-align: right;\">\n",
       "      <th></th>\n",
       "      <th>0</th>\n",
       "    </tr>\n",
       "  </thead>\n",
       "  <tbody>\n",
       "  </tbody>\n",
       "</table>\n",
       "</div>"
      ],
      "text/plain": [
       "Empty DataFrame\n",
       "Columns: [0]\n",
       "Index: []"
      ]
     },
     "execution_count": 19,
     "metadata": {},
     "output_type": "execute_result"
    }
   ],
   "source": [
    "pd.DataFrame(pred)"
   ]
  },
  {
   "cell_type": "code",
   "execution_count": 123,
   "metadata": {},
   "outputs": [],
   "source": [
    "def calcular_noticia(noticia):\n",
    "    df = pd.read_csv('noticias.csv')\n",
    "    df = df.append(pd.DataFrame({\"noticia\": pre_processar(noticia)}, index=[0]), ignore_index=True)\n",
    "    \n",
    "    vectorizer = TfidfVectorizer(max_features=20000)\n",
    "\n",
    "    tfidf_matrix = vectorizer.fit_transform(df['noticia'])\n",
    "    X_train = tfidf_matrix[:-1]\n",
    "    Y_train = df['target'][:-1]\n",
    "    X_test = tfidf_matrix[-1:]\n",
    "    \n",
    "    # Modelo\n",
    "    m = XGBClassifier(\n",
    "        n_jobs=4,\n",
    "        random_state=1\n",
    "    )\n",
    "    \n",
    "    # Gerando a previsão para a linha de teste\n",
    "    m.fit(\n",
    "        X_train,\n",
    "        Y_train\n",
    "    )\n",
    "    \n",
    "    return m.predict_proba(X_test)[0,1]"
   ]
  },
  {
   "cell_type": "code",
   "execution_count": 124,
   "metadata": {},
   "outputs": [
    {
     "data": {
      "text/plain": [
       "0.030224655"
      ]
     },
     "execution_count": 124,
     "metadata": {},
     "output_type": "execute_result"
    }
   ],
   "source": [
    "calcular_noticia(noticia)"
   ]
  }
 ],
 "metadata": {
  "kernelspec": {
   "display_name": "Python 3",
   "language": "python",
   "name": "python3"
  },
  "language_info": {
   "codemirror_mode": {
    "name": "ipython",
    "version": 3
   },
   "file_extension": ".py",
   "mimetype": "text/x-python",
   "name": "python",
   "nbconvert_exporter": "python",
   "pygments_lexer": "ipython3",
   "version": "3.7.0"
  }
 },
 "nbformat": 4,
 "nbformat_minor": 2
}
