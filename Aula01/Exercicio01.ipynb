{
 "cells": [
  {
   "cell_type": "markdown",
   "metadata": {},
   "source": [
    "# Exercício 01\n",
    "## João Paulo de Melo\n",
    "\n",
    "Plotando desenhos interativos"
   ]
  },
  {
   "cell_type": "code",
   "execution_count": 1,
   "metadata": {},
   "outputs": [],
   "source": [
    "from ipywidgets import interact, interactive, fixed, interact_manual\n",
    "import ipywidgets as widgets\n",
    "\n",
    "import matplotlib as mpl\n",
    "\n",
    "import numpy as np\n",
    "import pandas as pd\n",
    "\n",
    "import matplotlib.path as mpath\n",
    "import matplotlib.patches as mpatches\n",
    "import matplotlib.pyplot as plt\n",
    "\n",
    "%matplotlib inline"
   ]
  },
  {
   "cell_type": "markdown",
   "metadata": {},
   "source": [
    "### Interagindo com desenho passo-a-passo\n",
    "\n",
    "Vamos interagir linha por linha em um desenho utilizando um slider"
   ]
  },
  {
   "cell_type": "code",
   "execution_count": 2,
   "metadata": {},
   "outputs": [
    {
     "data": {
      "application/vnd.jupyter.widget-view+json": {
       "model_id": "4c0390064b344749b3f66df766fea263",
       "version_major": 2,
       "version_minor": 0
      },
      "text/plain": [
       "interactive(children=(IntSlider(value=1, description='X', max=9, min=1), Output()), _dom_classes=('widget-inte…"
      ]
     },
     "metadata": {},
     "output_type": "display_data"
    },
    {
     "data": {
      "text/plain": [
       "<function __main__.gerar_grafico(X)>"
      ]
     },
     "execution_count": 2,
     "metadata": {},
     "output_type": "execute_result"
    }
   ],
   "source": [
    "def gerar_grafico(X):\n",
    "    widgets.IntProgress(value=X)\n",
    "    fig, ax = plt.subplots()\n",
    "   \n",
    "    Path = mpath.Path\n",
    "\n",
    "    path_data = [\n",
    "        (Path.MOVETO, (1.58, -2.57)),\n",
    "        (Path.CURVE4, (0.35, -1.1)),\n",
    "        (Path.CURVE4, (-1.75, 2.0)),\n",
    "        (Path.CURVE4, (0.375, 2.0)),\n",
    "        (Path.LINETO, (0.85, 1.15)),\n",
    "        (Path.CURVE4, (2.2, 3.2)),\n",
    "        (Path.CURVE4, (3, 0.05)),\n",
    "        (Path.CURVE4, (2.0, -0.5)),\n",
    "        (Path.CLOSEPOLY, (1.58, -2.57)),\n",
    "        ]\n",
    "    codes, verts = zip(*path_data[0:X])\n",
    "    path = mpath.Path(verts, codes)\n",
    "    patch = mpatches.PathPatch(path, facecolor='r', alpha=0.5)\n",
    "    ax.add_patch(patch)\n",
    "\n",
    "    # plot control points and connecting lines\n",
    "    x, y = zip(*path.vertices)\n",
    "    line, = ax.plot(x, y, 'go-')\n",
    "\n",
    "    ax.grid()\n",
    "    ax.axis('equal')\n",
    "    plt.show()\n",
    "\n",
    "\n",
    "\n",
    "interact(gerar_grafico, X=widgets.IntSlider(min=1, max=9, value=1))"
   ]
  },
  {
   "cell_type": "markdown",
   "metadata": {},
   "source": [
    "### Desenhando utilizando coordedanas, linhas e cursor\n",
    "\n",
    "Podemos desenhar objetos simplesmente passando as coordenadas e tipo de ferramenta a ser usada."
   ]
  },
  {
   "cell_type": "code",
   "execution_count": 4,
   "metadata": {},
   "outputs": [
    {
     "data": {
      "application/vnd.jupyter.widget-view+json": {
       "model_id": "5d7ca20358fb4253881a9c0355902142",
       "version_major": 2,
       "version_minor": 0
      },
      "text/plain": [
       "interactive(children=(Dropdown(description='tipo', options=(('Mover para', 1), ('Desenhar Linha para', 2), ('D…"
      ]
     },
     "metadata": {},
     "output_type": "display_data"
    },
    {
     "data": {
      "text/plain": [
       "<function __main__.desenhar(tipo, X, Y)>"
      ]
     },
     "execution_count": 4,
     "metadata": {},
     "output_type": "execute_result"
    }
   ],
   "source": [
    "Path = mpath.Path\n",
    "\n",
    "point_data = [\n",
    "    (Path.MOVETO, (0.00, 0.00)),\n",
    "]\n",
    "\n",
    "movements = [(\"Mover para\", Path.MOVETO),\n",
    "             (\"Desenhar Linha para\", Path.LINETO),\n",
    "             (\"Desenhar curva 3\", Path.CURVE3),\n",
    "             (\"Desenhar curva 4\", Path.CURVE4),\n",
    "             (\"terminar linha\", Path.CLOSEPOLY),\n",
    "             (\"Desfazer último\", -1)]\n",
    "\n",
    "def desenhar(tipo, X, Y):\n",
    "    global Path, point_data\n",
    "\n",
    "    fig, ax = plt.subplots()\n",
    "    \n",
    "    if tipo == -1 and len(point_data) > 1:\n",
    "        point_data.pop(-1)\n",
    "    elif tipo == -1:\n",
    "        print(\"não tem como desfazer mais!\")\n",
    "    elif tipo == Path.CLOSEPOLY:\n",
    "        point_data.append((tipo, (float(point_data[0][1][0]), float(point_data[0][1][1]))))\n",
    "    elif X != \"\" and Y != \"\":\n",
    "        point_data.append((tipo, (float(X), float(Y))))\n",
    "    codes, verts = zip(*point_data)\n",
    "    path = mpath.Path(verts, codes)\n",
    "    patch = mpatches.PathPatch(path, facecolor='r', alpha=0.5)\n",
    "    ax.add_patch(patch)\n",
    "    \n",
    "    x, y = zip(*path.vertices)\n",
    "    line, = ax.plot(x, y, 'go-')\n",
    "\n",
    "    ax.grid()\n",
    "    ax.axis('equal')\n",
    "    plt.show()\n",
    "\n",
    "\n",
    "interact_manual(desenhar, point_data=point_data[0], tipo=movements, X=\"\", Y=\"\", )"
   ]
  }
 ],
 "metadata": {
  "kernelspec": {
   "display_name": "Python 3",
   "language": "python",
   "name": "python3"
  },
  "language_info": {
   "codemirror_mode": {
    "name": "ipython",
    "version": 3
   },
   "file_extension": ".py",
   "mimetype": "text/x-python",
   "name": "python",
   "nbconvert_exporter": "python",
   "pygments_lexer": "ipython3",
   "version": "3.6.5"
  }
 },
 "nbformat": 4,
 "nbformat_minor": 2
}
