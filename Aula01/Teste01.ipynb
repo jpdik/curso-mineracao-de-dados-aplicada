{
 "cells": [
  {
   "cell_type": "code",
   "execution_count": 28,
   "metadata": {},
   "outputs": [],
   "source": [
    "from ipywidgets import interact, interactive, fixed, interact_manual\n",
    "import ipywidgets as widgets\n",
    "\n",
    "from io import BytesIO\n",
    "from IPython.display import Image\n",
    "import matplotlib as mpl\n",
    "from skimage import data, filters, io, img_as_float\n",
    "\n",
    "import numpy as np\n",
    "import pandas as pd\n",
    "\n",
    "import matplotlib.path as mpath\n",
    "import matplotlib.patches as mpatches\n",
    "import matplotlib.pyplot as plt\n",
    "\n",
    "%matplotlib inline"
   ]
  },
  {
   "cell_type": "code",
   "execution_count": 32,
   "metadata": {},
   "outputs": [
    {
     "data": {
      "text/plain": [
       "(183, 275, 3)"
      ]
     },
     "execution_count": 32,
     "metadata": {},
     "output_type": "execute_result"
    }
   ],
   "source": [
    "image = io.imread('img/gorila.jpeg')\n",
    "i = img_as_float(image)  \n",
    "i.shape"
   ]
  },
  {
   "cell_type": "code",
   "execution_count": 31,
   "metadata": {},
   "outputs": [],
   "source": [
    "def arr2img(arr):\n",
    "    if arr.ndim == 2:\n",
    "        format, cmap = 'png', mpl.cm.gray\n",
    "    elif arr.ndim == 3:\n",
    "        format, cmap = 'jpg', None\n",
    "    else:\n",
    "        raise ValueError(\"Only 2- or 3-d arrays can be displayed as images.\")\n",
    "    vmax = 255 if arr.dtype == 'uint8' else 1.0\n",
    "    with BytesIO() as buffer:\n",
    "        mpl.image.imsave(buffer, arr, format=format, cmap=cmap, vmin=0, vmax=vmax)\n",
    "        out = buffer.getvalue()\n",
    "    return Image(out)"
   ]
  },
  {
   "cell_type": "code",
   "execution_count": 30,
   "metadata": {},
   "outputs": [
    {
     "data": {
      "application/vnd.jupyter.widget-view+json": {
       "model_id": "03426fec3f954c7a805549961f826219",
       "version_major": 2,
       "version_minor": 0
      },
      "text/plain": [
       "interactive(children=(Text(value='', description='image'), IntSlider(value=0, description='R', max=255), IntSl…"
      ]
     },
     "metadata": {},
     "output_type": "display_data"
    },
    {
     "data": {
      "text/plain": [
       "<function __main__.change_color(image, R, G, B, sigma)>"
      ]
     },
     "execution_count": 30,
     "metadata": {},
     "output_type": "execute_result"
    }
   ],
   "source": [
    "def change_color(image, R, G, B, sigma):\n",
    "    try:\n",
    "        i = io.imread(image)\n",
    "        i = img_as_float(i)\n",
    "        img_with_filter = filters.gaussian(i, sigma=sigma, multichannel=True)\n",
    "        img_with_filter[:,:,0] = R*img_with_filter[:,:,0] if R != 0 else img_with_filter[:,:,0]\n",
    "        img_with_filter[:,:,1] = G*img_with_filter[:,:,1] if G != 0 else img_with_filter[:,:,1]\n",
    "        img_with_filter[:,:,2] = B*img_with_filter[:,:,2] if B != 0 else img_with_filter[:,:,2]\n",
    "        return arr2img(img_with_filter)\n",
    "    except FileNotFoundError as e:\n",
    "        print(\"Insira um caminho corretamente\")\n",
    "    except IsADirectoryError as e:\n",
    "        print(\"Insira um caminho para img, nao um diretório.\")\n",
    "\n",
    "interact(change_color, image=\"\",R=widgets.IntSlider(min=0,max=255,step=1), G=widgets.IntSlider(min=0,max=255,step=1), B=widgets.IntSlider(min=0,max=255,step=1), sigma=widgets.FloatSlider(min=0,max=1,step=0.01,value=0.1))"
   ]
  },
  {
   "cell_type": "code",
   "execution_count": 15,
   "metadata": {},
   "outputs": [
    {
     "data": {
      "application/vnd.jupyter.widget-view+json": {
       "model_id": "8aeb6cdc8be14c599d0fffec0ad46daa",
       "version_major": 2,
       "version_minor": 0
      },
      "text/plain": [
       "interactive(children=(IntSlider(value=1, description='X', max=9, min=1), Output()), _dom_classes=('widget-inte…"
      ]
     },
     "metadata": {},
     "output_type": "display_data"
    },
    {
     "data": {
      "text/plain": [
       "<function __main__.gerar_grafico(X)>"
      ]
     },
     "execution_count": 15,
     "metadata": {},
     "output_type": "execute_result"
    }
   ],
   "source": [
    "def gerar_grafico(X):\n",
    "    widgets.IntProgress(value=X)\n",
    "    fig, ax = plt.subplots()\n",
    "   \n",
    "    Path = mpath.Path\n",
    "\n",
    "    path_data = [\n",
    "        (Path.MOVETO, (1.58, -2.57)),\n",
    "        (Path.CURVE4, (0.35, -1.1)),\n",
    "        (Path.CURVE4, (-1.75, 2.0)),\n",
    "        (Path.CURVE4, (0.375, 2.0)),\n",
    "        (Path.LINETO, (0.85, 1.15)),\n",
    "        (Path.CURVE4, (2.2, 3.2)),\n",
    "        (Path.CURVE4, (3, 0.05)),\n",
    "        (Path.CURVE4, (2.0, -0.5)),\n",
    "        (Path.CLOSEPOLY, (1.58, -2.57)),\n",
    "        ]\n",
    "    codes, verts = zip(*path_data[0:X])\n",
    "    path = mpath.Path(verts, codes)\n",
    "    patch = mpatches.PathPatch(path, facecolor='r', alpha=0.5)\n",
    "    ax.add_patch(patch)\n",
    "\n",
    "    # plot control points and connecting lines\n",
    "    x, y = zip(*path.vertices)\n",
    "    line, = ax.plot(x, y, 'go-')\n",
    "\n",
    "    ax.grid()\n",
    "    ax.axis('equal')\n",
    "    plt.show()\n",
    "\n",
    "\n",
    "\n",
    "interact(gerar_grafico, X=widgets.IntSlider(min=1, max=9, value=1))"
   ]
  },
  {
   "cell_type": "code",
   "execution_count": 29,
   "metadata": {},
   "outputs": [
    {
     "data": {
      "application/vnd.jupyter.widget-view+json": {
       "model_id": "2e58ff92326c4f53926f174816a03247",
       "version_major": 2,
       "version_minor": 0
      },
      "text/plain": [
       "interactive(children=(Dropdown(description='tipo', options=(('Mover para Frente', 1), ('curva', 4), ('Linha pa…"
      ]
     },
     "metadata": {},
     "output_type": "display_data"
    },
    {
     "data": {
      "text/plain": [
       "<function __main__.gerar_grafico(tipo, X, Y)>"
      ]
     },
     "execution_count": 29,
     "metadata": {},
     "output_type": "execute_result"
    }
   ],
   "source": [
    "Path = mpath.Path\n",
    "\n",
    "point_data = [\n",
    "    (Path.MOVETO, (0.00, 0.00)),\n",
    "]\n",
    "\n",
    "movements = [(\"Mover para Frente\", Path.MOVETO), (\"curva\", Path.CURVE4), (\"Linha para\", Path.LINETO), (\"terminar\", Path.CLOSEPOLY)]\n",
    "\n",
    "def gerar_grafico(tipo, X, Y):\n",
    "    global Path, point_data\n",
    "\n",
    "    fig, ax = plt.subplots()\n",
    "\n",
    "    if X != \"\" and Y != \"\":\n",
    "        point_data.append((tipo, (float(X), float(Y))))\n",
    "    codes, verts = zip(*point_data)\n",
    "    path = mpath.Path(verts, codes)\n",
    "    patch = mpatches.PathPatch(path, facecolor='r', alpha=0.5)\n",
    "    ax.add_patch(patch)\n",
    "    \n",
    "    # plot control points and connecting lines\n",
    "    x, y = zip(*path.vertices)\n",
    "    line, = ax.plot(x, y, 'go-')\n",
    "\n",
    "    ax.grid()\n",
    "    ax.axis('equal')\n",
    "    plt.show()\n",
    "\n",
    "\n",
    "interact_manual(gerar_grafico, point_data=point_data[0], tipo=movements, X=\"\", Y=\"\")"
   ]
  }
 ],
 "metadata": {
  "kernelspec": {
   "display_name": "Python 3",
   "language": "python",
   "name": "python3"
  },
  "language_info": {
   "codemirror_mode": {
    "name": "ipython",
    "version": 3
   },
   "file_extension": ".py",
   "mimetype": "text/x-python",
   "name": "python",
   "nbconvert_exporter": "python",
   "pygments_lexer": "ipython3",
   "version": "3.6.5"
  }
 },
 "nbformat": 4,
 "nbformat_minor": 2
}
