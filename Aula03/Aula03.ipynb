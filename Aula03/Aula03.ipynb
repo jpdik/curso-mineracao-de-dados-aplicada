{
 "cells": [
  {
   "cell_type": "code",
   "execution_count": 7,
   "metadata": {},
   "outputs": [],
   "source": [
    "import requests\n",
    "import re"
   ]
  },
  {
   "cell_type": "code",
   "execution_count": 2,
   "metadata": {},
   "outputs": [],
   "source": [
    "# Realiza uma requisição HTTP GET\n",
    "req = requests.get('https://barbacenaonline.com.br/')"
   ]
  },
  {
   "cell_type": "code",
   "execution_count": 3,
   "metadata": {},
   "outputs": [
    {
     "data": {
      "text/plain": [
       "<Response [200]>"
      ]
     },
     "execution_count": 3,
     "metadata": {},
     "output_type": "execute_result"
    }
   ],
   "source": [
    "req"
   ]
  },
  {
   "cell_type": "code",
   "execution_count": 4,
   "metadata": {},
   "outputs": [
    {
     "data": {
      "text/plain": [
       "{'Date': 'Wed, 07 Nov 2018 00:07:01 GMT', 'Server': 'Apache', 'Vary': 'Accept-Encoding,User-Agent', 'Last-Modified': 'Tue, 06 Nov 2018 22:21:36 GMT', 'Accept-Ranges': 'bytes', 'Content-Length': '26606', 'Cache-Control': 'max-age=0', 'Expires': 'Wed, 07 Nov 2018 00:07:01 GMT', 'Keep-Alive': 'timeout=5, max=100', 'Connection': 'Keep-Alive', 'Content-Type': 'text/html; charset=UTF-8', 'Content-Encoding': 'gzip'}"
      ]
     },
     "execution_count": 4,
     "metadata": {},
     "output_type": "execute_result"
    }
   ],
   "source": [
    "req.headers"
   ]
  },
  {
   "cell_type": "code",
   "execution_count": 6,
   "metadata": {},
   "outputs": [
    {
     "data": {
      "text/plain": [
       "'<!DOCTYPE html> <!--[if IE 8]><html class=\"ie ie8\" lang=\"pt-BR\"> <![endif]--> <!--[if IE 9]><html class=\"ie ie9\" lang=\"pt-BR\"> <![endif]--> <!--[if gt IE 9]><!--><html lang=\"pt-BR\"> <!--<![endif]--><head><link rel=\"stylesheet\" href=\"https://fonts.googleapis.com/css?family=Roboto:400,700,500,400italic%7CLato:400\" /><link rel=\"stylesheet\" href=\"https://barbacenaonline.com.br/application/cache/min/1/c8a53adb1bc3c8f215c452ae65c67051.css\" data-minify=\"1\" /><script type=\\'text/javascript\\' src=\\'https://barbacenaonline.com.br/application/cache/busting/1/wp-includes/js/jquery/jquery-1.12.4.js\\'></script><script async src=\"//pagead2.googlesyndication.com/pagead/js/adsbygoogle.js\"></script><script async src=\"//pagead2.googlesyndication.com/pagead/js/adsbygoogle.js\"></script><script async src=\"//pagead2.googlesyndication.com/pagead/js/adsbygoogle.js\"></script><script async src=\"//pagead2.googlesyndication.com/pagead/js/adsbygoogle.js\"></script><script async src=\"//pagead2.googlesyndication.com/pagea'"
      ]
     },
     "execution_count": 6,
     "metadata": {},
     "output_type": "execute_result"
    }
   ],
   "source": [
    "req.text[:1000]"
   ]
  },
  {
   "cell_type": "code",
   "execution_count": 9,
   "metadata": {},
   "outputs": [
    {
     "name": "stdout",
     "output_type": "stream",
     "text": [
      "Casou\n"
     ]
    }
   ],
   "source": [
    "if re.match(r'[gr]?ato', 'ato'):\n",
    "    print('Casou')"
   ]
  }
 ],
 "metadata": {
  "kernelspec": {
   "display_name": "Python 3",
   "language": "python",
   "name": "python3"
  },
  "language_info": {
   "codemirror_mode": {
    "name": "ipython",
    "version": 3
   },
   "file_extension": ".py",
   "mimetype": "text/x-python",
   "name": "python",
   "nbconvert_exporter": "python",
   "pygments_lexer": "ipython3",
   "version": "3.6.5"
  }
 },
 "nbformat": 4,
 "nbformat_minor": 2
}
