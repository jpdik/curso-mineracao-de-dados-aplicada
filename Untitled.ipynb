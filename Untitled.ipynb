{
 "cells": [
  {
   "cell_type": "code",
   "execution_count": 2,
   "metadata": {},
   "outputs": [],
   "source": [
    "import requests"
   ]
  },
  {
   "cell_type": "code",
   "execution_count": 10,
   "metadata": {},
   "outputs": [
    {
     "data": {
      "text/plain": [
       "'{\\n  \"country\" : \"BR\",\\n  \"display_name\" : \"Joao Paulo de Melo\",\\n  \"email\" : \"jpdik@hotmail.com\",\\n  \"external_urls\" : {\\n    \"spotify\" : \"https://open.spotify.com/user/22ztdoi7uo4yztqu5q42w4twy\"\\n  },\\n  \"followers\" : {\\n    \"href\" : null,\\n    \"total\" : 3\\n  },\\n  \"href\" : \"https://api.spotify.com/v1/users/22ztdoi7uo4yztqu5q42w4twy\",\\n  \"id\" : \"22ztdoi7uo4yztqu5q42w4twy\",\\n  \"images\" : [ {\\n    \"height\" : null,\\n    \"url\" : \"https://platform-lookaside.fbsbx.com/platform/profilepic/?asid=886781991393238&height=200&width=200&ext=1544834517&hash=AeTjPILV7vlVypSf\",\\n    \"width\" : null\\n  } ],\\n  \"product\" : \"open\",\\n  \"type\" : \"user\",\\n  \"uri\" : \"spotify:user:22ztdoi7uo4yztqu5q42w4twy\"\\n}'"
      ]
     },
     "execution_count": 10,
     "metadata": {},
     "output_type": "execute_result"
    }
   ],
   "source": [
    "TOKEN = \"BQDmt7Z7n96YTtaE9zWGYSPEE9CxOM2wHi1bNfojZ5_lF6rFjpluCJIjKgKEyA96S-Xn_jFt3mkOOvoSTM5utBsq50vXsUWvlJh0QR4WyG_m7sSg_nXRw4D6CUAFyJl2p2MloOfRf6VqHeveliFwgedUkA2SwPaJv6DqNTOqQ0HIEpugdw\"\n",
    "headers = {\"Authorization\": \"Bearer \"+TOKEN}\n",
    "\n",
    "req = requests.get(\"https://api.spotify.com/v1/me\", headers=headers)\n",
    "req.text"
   ]
  }
 ],
 "metadata": {
  "kernelspec": {
   "display_name": "Python 3",
   "language": "python",
   "name": "python3"
  },
  "language_info": {
   "codemirror_mode": {
    "name": "ipython",
    "version": 3
   },
   "file_extension": ".py",
   "mimetype": "text/x-python",
   "name": "python",
   "nbconvert_exporter": "python",
   "pygments_lexer": "ipython3",
   "version": "3.6.5"
  }
 },
 "nbformat": 4,
 "nbformat_minor": 2
}
