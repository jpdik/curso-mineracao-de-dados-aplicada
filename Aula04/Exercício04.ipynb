{
 "cells": [
  {
   "cell_type": "code",
   "execution_count": 1,
   "metadata": {},
   "outputs": [],
   "source": [
    "import pandas as pd\n",
    "from nltk import word_tokenize\n",
    "# Remoção de acentos\n",
    "from unicodedata import normalize\n",
    "import _thread\n",
    "import time\n",
    "import requests\n",
    "import re\n",
    "\n",
    "\n",
    "# Tokenização com nltk\n",
    "from nltk import word_tokenize"
   ]
  },
  {
   "cell_type": "code",
   "execution_count": 2,
   "metadata": {},
   "outputs": [],
   "source": [
    "df = pd.read_csv('noticias_if.csv')\n",
    "df = df.iloc[10:]"
   ]
  },
  {
   "cell_type": "code",
   "execution_count": 3,
   "metadata": {},
   "outputs": [],
   "source": [
    "df = df[(df['descricao'].isnull() == False)]"
   ]
  },
  {
   "cell_type": "code",
   "execution_count": 4,
   "metadata": {},
   "outputs": [],
   "source": [
    "import nltk\n",
    "\n",
    "stopwords = nltk.corpus.stopwords.words('portuguese')\n",
    "#print(stopwords)"
   ]
  },
  {
   "cell_type": "code",
   "execution_count": 5,
   "metadata": {},
   "outputs": [
    {
     "data": {
      "text/plain": [
       "'!\"#$%&\\'()*+,-./:;<=>?@[\\\\]^_`{|}~“”–'"
      ]
     },
     "execution_count": 5,
     "metadata": {},
     "output_type": "execute_result"
    }
   ],
   "source": [
    "from string import punctuation\n",
    "\n",
    "punctuation+'“”–'"
   ]
  },
  {
   "cell_type": "code",
   "execution_count": 6,
   "metadata": {},
   "outputs": [
    {
     "data": {
      "text/plain": [
       "11    fapemig lança pacote editais 2014 fundação amp...\n",
       "13    conselho pais realiza “ dia campo ” pais estud...\n",
       "14    censoead.br 2012 2013 censoead.br 2012 objetiv...\n",
       "17    integrantes seção cultura artes participam eve...\n",
       "19    período inscrições sisu 2014 6 10 janeiro if s...\n",
       "Name: doc, dtype: object"
      ]
     },
     "execution_count": 6,
     "metadata": {},
     "output_type": "execute_result"
    }
   ],
   "source": [
    "def processa(row):\n",
    "    txt = row['titulo'] + ' ' + row['descricao']\n",
    "    \n",
    "    txt = re.sub('<[^<]+?>', '', txt)\n",
    "    \n",
    "    return ' '.join([t for t in word_tokenize(txt.lower()) if (t not in stopwords) and (t not in punctuation)])\n",
    "\n",
    "df['doc'] = df.apply(processa, axis=1)\n",
    "\n",
    "df['doc'].head()"
   ]
  },
  {
   "cell_type": "code",
   "execution_count": 7,
   "metadata": {},
   "outputs": [
    {
     "data": {
      "text/plain": [
       "'fapemig lança pacote editais 2014 fundação amparo pesquisa estado minas gerais fapemig lançou pacote editais ano 2014 destinando r 36 milhões recursos apoio pesquisadores mineiros lançamentos edital demanda universal provê apoio projetos qualquer área conhecimento demais modalidades abertas oferecem suporte trabalhos pesquisa desenvolvidos estado meio concessão bolsas pesquisadores financiamento itens apoio livros manutenção equipamentos confira seguir todos editais lançados especificidades universal edital 01/2014 apoia financeiramente projetos pesquisa científica tecnológica inovação diversas áreas conhecimento edital vai destinar todo r 23 milhões pesquisas aprovadas cada proposta deve ser r 50 mil propostas recebidas 31 março 2014. manutenção equipamentos edital 02/2014 financia reparos manutenção equipamentos laboratórios período garantia cujo custo aquisição sido superior r 100 mil todo distribuídos r 2 milhões propostas aprovadas propostas devem ser enviadas 2 abril programa pesquisador mineiro – ppm viii edital 03/2014 oferecerá 200 cotas financeiras mensais pesquisadores tecnólogos distribuídas três modalidades pesquisadores beneficiários “ adicional bancada ” concedido cnpq – 130 cotas r 48 mil pesquisador beneficiário “ adicional bancada ” concedido cnpq – 60 cotas r 24 mil tecnólogos – 10 cotas r 48 mil propostas devem ser enviadas 10 março aquisição livros técnicos científicos pós-graduação edital 04/2014 edital busca atualizar ampliar acervo cursos stricto sensu recomendados coordenação aperfeiçoamento pessoal nível superior capes regularmente oferecidos instituições sediadas minas gerais todo destinados r 2 milhões propostas aprovadas fapemig receberá propostas dia 7 abril 2014. publicação periódicos científicos institucionais edital 05/2014 voltado financiamento editoração publicação periódicos científicos edital irá disponibilizar recursos ordem r 1 milhão propostas podem ser enviadas 7 abril 2014. extensão interface pesquisa edital 07/2014 visa financiar projetos extensão interface pesquisa científica e/ou desenvolvimento tecnológico serem executados minas gerais propostas devem ter caráter extensionista bem definido prime indissociabilidade ensino/pesquisa/extensão recursos alocados financiamento presente edital ordem r 2 milhões reais valor recursos solicitados fapemig cada projeto deverá ser máximo r 50 mil reais propostas podem ser enviadas 16 abril 2014. programa santos dumont edital 08/2014 visa financiar projetos iniciação tecnológica permitam discente testar teorias acadêmicas meio execução projetos cunho prático possibilitar participação equipes discentes competições tecnológicas caráter educacional recursos alocados financiamento presente edital ordem r 800 mil reais valor cada projeto deverá ser máximo r 25 mil reais propostas podem ser enviadas 23 abril 2014. programa mineiro pós-doutorado pmpd iii edital 10/2014 visa concessão bolsas pós-doutorado visando incluir pesquisadores doutores equipes projetos pesquisa inovação coordenados pesquisadores ectis localizadas estado minas gerais número bolsas serem concedidas é estimado duzentas vinte implementação ocorrerá setembro 2014 processos submetidos 2 junho 2014 março 2015 submetidos 13 outubro 2014. financiadas mensalidades bolsa taxa bancada despesas operacionais propostas podem ser enviadas 13 outubro 2014. informações completas http //www.fapemig.br/apoio/pesquisa/editais/ tipo=aberto fonte site reitoria'"
      ]
     },
     "execution_count": 7,
     "metadata": {},
     "output_type": "execute_result"
    }
   ],
   "source": [
    "df.iloc[0].doc"
   ]
  },
  {
   "cell_type": "code",
   "execution_count": 8,
   "metadata": {},
   "outputs": [
    {
     "data": {
      "text/plain": [
       "<3080x18884 sparse matrix of type '<class 'numpy.float64'>'\n",
       "\twith 219300 stored elements in Compressed Sparse Row format>"
      ]
     },
     "execution_count": 8,
     "metadata": {},
     "output_type": "execute_result"
    }
   ],
   "source": [
    "from sklearn.feature_extraction.text import TfidfVectorizer\n",
    "\n",
    "vectorizer = TfidfVectorizer(\n",
    "    analyzer='word',\n",
    "    ngram_range=(1, 1),\n",
    "    max_features=None,\n",
    "    binary=False,\n",
    "    use_idf=True\n",
    ")\n",
    "tfidf_matrix = vectorizer.fit_transform(df['doc'])\n",
    "\n",
    "tfidf_matrix"
   ]
  },
  {
   "cell_type": "code",
   "execution_count": 9,
   "metadata": {},
   "outputs": [
    {
     "data": {
      "text/html": [
       "<div>\n",
       "<style scoped>\n",
       "    .dataframe tbody tr th:only-of-type {\n",
       "        vertical-align: middle;\n",
       "    }\n",
       "\n",
       "    .dataframe tbody tr th {\n",
       "        vertical-align: top;\n",
       "    }\n",
       "\n",
       "    .dataframe thead th {\n",
       "        text-align: right;\n",
       "    }\n",
       "</style>\n",
       "<table border=\"1\" class=\"dataframe\">\n",
       "  <thead>\n",
       "    <tr style=\"text-align: right;\">\n",
       "      <th></th>\n",
       "      <th>00</th>\n",
       "      <th>000</th>\n",
       "      <th>001</th>\n",
       "      <th>001087</th>\n",
       "      <th>002</th>\n",
       "      <th>002084</th>\n",
       "      <th>002086</th>\n",
       "      <th>003</th>\n",
       "      <th>003066</th>\n",
       "      <th>003360</th>\n",
       "      <th>...</th>\n",
       "      <th>último</th>\n",
       "      <th>últimos</th>\n",
       "      <th>única</th>\n",
       "      <th>únicas</th>\n",
       "      <th>único</th>\n",
       "      <th>únicos</th>\n",
       "      <th>úteis</th>\n",
       "      <th>útero</th>\n",
       "      <th>útil</th>\n",
       "      <th>útimo</th>\n",
       "    </tr>\n",
       "  </thead>\n",
       "  <tbody>\n",
       "    <tr>\n",
       "      <th>0</th>\n",
       "      <td>0.0</td>\n",
       "      <td>0.0</td>\n",
       "      <td>0.0</td>\n",
       "      <td>0.0</td>\n",
       "      <td>0.0</td>\n",
       "      <td>0.0</td>\n",
       "      <td>0.0</td>\n",
       "      <td>0.0</td>\n",
       "      <td>0.0</td>\n",
       "      <td>0.0</td>\n",
       "      <td>...</td>\n",
       "      <td>0.0</td>\n",
       "      <td>0.0</td>\n",
       "      <td>0.0</td>\n",
       "      <td>0.0</td>\n",
       "      <td>0.0</td>\n",
       "      <td>0.0</td>\n",
       "      <td>0.0</td>\n",
       "      <td>0.0</td>\n",
       "      <td>0.0</td>\n",
       "      <td>0.0</td>\n",
       "    </tr>\n",
       "    <tr>\n",
       "      <th>1</th>\n",
       "      <td>0.0</td>\n",
       "      <td>0.0</td>\n",
       "      <td>0.0</td>\n",
       "      <td>0.0</td>\n",
       "      <td>0.0</td>\n",
       "      <td>0.0</td>\n",
       "      <td>0.0</td>\n",
       "      <td>0.0</td>\n",
       "      <td>0.0</td>\n",
       "      <td>0.0</td>\n",
       "      <td>...</td>\n",
       "      <td>0.0</td>\n",
       "      <td>0.0</td>\n",
       "      <td>0.0</td>\n",
       "      <td>0.0</td>\n",
       "      <td>0.0</td>\n",
       "      <td>0.0</td>\n",
       "      <td>0.0</td>\n",
       "      <td>0.0</td>\n",
       "      <td>0.0</td>\n",
       "      <td>0.0</td>\n",
       "    </tr>\n",
       "    <tr>\n",
       "      <th>2</th>\n",
       "      <td>0.0</td>\n",
       "      <td>0.0</td>\n",
       "      <td>0.0</td>\n",
       "      <td>0.0</td>\n",
       "      <td>0.0</td>\n",
       "      <td>0.0</td>\n",
       "      <td>0.0</td>\n",
       "      <td>0.0</td>\n",
       "      <td>0.0</td>\n",
       "      <td>0.0</td>\n",
       "      <td>...</td>\n",
       "      <td>0.0</td>\n",
       "      <td>0.0</td>\n",
       "      <td>0.0</td>\n",
       "      <td>0.0</td>\n",
       "      <td>0.0</td>\n",
       "      <td>0.0</td>\n",
       "      <td>0.0</td>\n",
       "      <td>0.0</td>\n",
       "      <td>0.0</td>\n",
       "      <td>0.0</td>\n",
       "    </tr>\n",
       "    <tr>\n",
       "      <th>3</th>\n",
       "      <td>0.0</td>\n",
       "      <td>0.0</td>\n",
       "      <td>0.0</td>\n",
       "      <td>0.0</td>\n",
       "      <td>0.0</td>\n",
       "      <td>0.0</td>\n",
       "      <td>0.0</td>\n",
       "      <td>0.0</td>\n",
       "      <td>0.0</td>\n",
       "      <td>0.0</td>\n",
       "      <td>...</td>\n",
       "      <td>0.0</td>\n",
       "      <td>0.0</td>\n",
       "      <td>0.0</td>\n",
       "      <td>0.0</td>\n",
       "      <td>0.0</td>\n",
       "      <td>0.0</td>\n",
       "      <td>0.0</td>\n",
       "      <td>0.0</td>\n",
       "      <td>0.0</td>\n",
       "      <td>0.0</td>\n",
       "    </tr>\n",
       "    <tr>\n",
       "      <th>4</th>\n",
       "      <td>0.0</td>\n",
       "      <td>0.0</td>\n",
       "      <td>0.0</td>\n",
       "      <td>0.0</td>\n",
       "      <td>0.0</td>\n",
       "      <td>0.0</td>\n",
       "      <td>0.0</td>\n",
       "      <td>0.0</td>\n",
       "      <td>0.0</td>\n",
       "      <td>0.0</td>\n",
       "      <td>...</td>\n",
       "      <td>0.0</td>\n",
       "      <td>0.0</td>\n",
       "      <td>0.0</td>\n",
       "      <td>0.0</td>\n",
       "      <td>0.0</td>\n",
       "      <td>0.0</td>\n",
       "      <td>0.0</td>\n",
       "      <td>0.0</td>\n",
       "      <td>0.0</td>\n",
       "      <td>0.0</td>\n",
       "    </tr>\n",
       "  </tbody>\n",
       "</table>\n",
       "<p>5 rows × 18884 columns</p>\n",
       "</div>"
      ],
      "text/plain": [
       "    00  000  001  001087  002  002084  002086  003  003066  003360  ...    \\\n",
       "0  0.0  0.0  0.0     0.0  0.0     0.0     0.0  0.0     0.0     0.0  ...     \n",
       "1  0.0  0.0  0.0     0.0  0.0     0.0     0.0  0.0     0.0     0.0  ...     \n",
       "2  0.0  0.0  0.0     0.0  0.0     0.0     0.0  0.0     0.0     0.0  ...     \n",
       "3  0.0  0.0  0.0     0.0  0.0     0.0     0.0  0.0     0.0     0.0  ...     \n",
       "4  0.0  0.0  0.0     0.0  0.0     0.0     0.0  0.0     0.0     0.0  ...     \n",
       "\n",
       "   último  últimos  única  únicas  único  únicos  úteis  útero  útil  útimo  \n",
       "0     0.0      0.0    0.0     0.0    0.0     0.0    0.0    0.0   0.0    0.0  \n",
       "1     0.0      0.0    0.0     0.0    0.0     0.0    0.0    0.0   0.0    0.0  \n",
       "2     0.0      0.0    0.0     0.0    0.0     0.0    0.0    0.0   0.0    0.0  \n",
       "3     0.0      0.0    0.0     0.0    0.0     0.0    0.0    0.0   0.0    0.0  \n",
       "4     0.0      0.0    0.0     0.0    0.0     0.0    0.0    0.0   0.0    0.0  \n",
       "\n",
       "[5 rows x 18884 columns]"
      ]
     },
     "execution_count": 9,
     "metadata": {},
     "output_type": "execute_result"
    }
   ],
   "source": [
    "pd.DataFrame(tfidf_matrix.todense(), columns=vectorizer.get_feature_names()).head()"
   ]
  },
  {
   "cell_type": "code",
   "execution_count": 10,
   "metadata": {},
   "outputs": [
    {
     "data": {
      "text/plain": [
       "<3080x18884 sparse matrix of type '<class 'numpy.float64'>'\n",
       "\twith 219300 stored elements in Compressed Sparse Row format>"
      ]
     },
     "execution_count": 10,
     "metadata": {},
     "output_type": "execute_result"
    }
   ],
   "source": [
    "from sklearn.feature_extraction.text import TfidfVectorizer\n",
    "\n",
    "\n",
    "\n",
    "tfidf_matrix\n"
   ]
  },
  {
   "cell_type": "code",
   "execution_count": 11,
   "metadata": {},
   "outputs": [],
   "source": [
    "from sklearn.metrics.pairwise import cosine_similarity\n",
    "\n",
    "# Calcula todas as similaridades de cada linha\n",
    "sim = cosine_similarity(tfidf_matrix)"
   ]
  },
  {
   "cell_type": "code",
   "execution_count": 44,
   "metadata": {},
   "outputs": [
    {
     "data": {
      "text/plain": [
       "[(2795, 0.4417390642181212),\n",
       " (7, 0.39012374489011686),\n",
       " (2376, 0.36097303709428197),\n",
       " (615, 0.3557144395873862),\n",
       " (612, 0.33367163337761924)]"
      ]
     },
     "execution_count": 44,
     "metadata": {},
     "output_type": "execute_result"
    }
   ],
   "source": [
    "vectorizer = TfidfVectorizer(\n",
    "        analyzer='word',\n",
    "        ngram_range=(1, 1),\n",
    "        max_features=None,\n",
    "        binary=False,\n",
    "        use_idf=True\n",
    "    )\n",
    "data = df.append({'doc': \"divulgado o Edital de iniciação científica\"}, ignore_index=True)\n",
    "tfidf_matrix = vectorizer.fit_transform(data['doc'])\n",
    "\n",
    "from sklearn.metrics.pairwise import cosine_similarity\n",
    "\n",
    "# Calcula todas as similaridades de cada linha\n",
    "sim = cosine_similarity(tfidf_matrix)\n",
    "\n",
    "sim.shape\n",
    "\n",
    "l = []\n",
    "for i in range(0, len(sim)-1):\n",
    "    l.append((i, sim[i][-1]))\n",
    "l = sorted(l, key=lambda x: x[1], reverse=True)[0:5]\n",
    "l"
   ]
  },
  {
   "cell_type": "code",
   "execution_count": 48,
   "metadata": {},
   "outputs": [
    {
     "data": {
      "text/plain": [
       "'divulgado resultado processo seleção bolsistas iniciação científica ensino médio divulgado resultado processo seleção bolsistas iniciação científica ensino médio total 105 inscrições concorrer 13 bolsas iniciação científica pibic-jr cnpq referentes 11 projetos campus barbacena aprovados edital 09.2011. período vigência bolsas é março/2012 31/01/2013 veja resultado outras informações telefone 3693-8612'"
      ]
     },
     "execution_count": 48,
     "metadata": {},
     "output_type": "execute_result"
    }
   ],
   "source": [
    "data.iloc[2376].doc"
   ]
  },
  {
   "cell_type": "code",
   "execution_count": 45,
   "metadata": {},
   "outputs": [
    {
     "data": {
      "text/plain": [
       "'divulgado o Edital de iniciação científica'"
      ]
     },
     "execution_count": 45,
     "metadata": {},
     "output_type": "execute_result"
    }
   ],
   "source": [
    "data.iloc[-1].doc"
   ]
  },
  {
   "cell_type": "code",
   "execution_count": 56,
   "metadata": {},
   "outputs": [],
   "source": [
    "def trazer_mais_proximas(noticia):    \n",
    "    \n",
    "    vectorizer = TfidfVectorizer(\n",
    "        analyzer='word',\n",
    "        ngram_range=(1, 1),\n",
    "        max_features=None,\n",
    "        binary=False,\n",
    "        use_idf=True\n",
    "    )\n",
    "    data = df.append({'doc': noticia}, ignore_index=True)\n",
    "    tfidf_matrix = vectorizer.fit_transform(data['doc'])\n",
    "\n",
    "    from sklearn.metrics.pairwise import cosine_similarity\n",
    "\n",
    "    # Calcula todas as similaridades de cada linha\n",
    "    sim = cosine_similarity(tfidf_matrix)\n",
    "\n",
    "    sim.shape\n",
    "\n",
    "    l = []\n",
    "    for i in range(0, len(sim)-1):\n",
    "        l.append((i, sim[i][-1]))\n",
    "    l = sorted(l, key=lambda x: x[1], reverse=True)[0:5]\n",
    "    [print(data.iloc[x[0]].link) for x in l]\n",
    "    return [data.iloc[x[0]].link for x in l]"
   ]
  },
  {
   "cell_type": "code",
   "execution_count": 57,
   "metadata": {},
   "outputs": [
    {
     "name": "stdout",
     "output_type": "stream",
     "text": [
      "http://www.barbacena.ifsudestemg.edu.br/destaques/divulgado-resultado-final-retificado-edital-042016-edital-projetos-iniciacao-cientifica\n",
      "http://www.barbacena.ifsudestemg.edu.br/destaques/divulgado-resultado-provisorio-projetos-iniciacao-cientifica-encaminhados-ao-edital-052016\n",
      "http://www.barbacena.ifsudestemg.edu.br/destaques/divulgado-resultado-processo-selecao-bolsistas-iniciacao-cientifica-ensino-medio-0\n",
      "http://www.barbacena.ifsudestemg.edu.br/destaques/divulgado-resultado-provisorio-editais-iniciacao-cientifica-3-4-52013\n",
      "http://www.barbacena.ifsudestemg.edu.br/destaques/publicada-retificacao-resultado-final-campus-barbacena-edital-selecao-projetos-iniciacao-c\n"
     ]
    },
    {
     "data": {
      "text/plain": [
       "['http://www.barbacena.ifsudestemg.edu.br/destaques/divulgado-resultado-final-retificado-edital-042016-edital-projetos-iniciacao-cientifica',\n",
       " 'http://www.barbacena.ifsudestemg.edu.br/destaques/divulgado-resultado-provisorio-projetos-iniciacao-cientifica-encaminhados-ao-edital-052016',\n",
       " 'http://www.barbacena.ifsudestemg.edu.br/destaques/divulgado-resultado-processo-selecao-bolsistas-iniciacao-cientifica-ensino-medio-0',\n",
       " 'http://www.barbacena.ifsudestemg.edu.br/destaques/divulgado-resultado-provisorio-editais-iniciacao-cientifica-3-4-52013',\n",
       " 'http://www.barbacena.ifsudestemg.edu.br/destaques/publicada-retificacao-resultado-final-campus-barbacena-edital-selecao-projetos-iniciacao-c']"
      ]
     },
     "execution_count": 57,
     "metadata": {},
     "output_type": "execute_result"
    }
   ],
   "source": [
    "trazer_mais_proximas(\"divulgado o Edital de iniciação científica\")"
   ]
  },
  {
   "cell_type": "code",
   "execution_count": 58,
   "metadata": {},
   "outputs": [
    {
     "name": "stdout",
     "output_type": "stream",
     "text": [
      "http://www.barbacena.ifsudestemg.edu.br/destaques/servidores-alunos-neabi-nucleo-estudos-afro-brasileiro-indigena-campus-barbacena-participa\n",
      "http://www.barbacena.ifsudestemg.edu.br/destaques/alunos-campus-barbacena-participam-projeto-%E2%80%9Cavaliacao-cana-acucar-hidrolisada-equinos%E2%80%9D\n",
      "http://www.barbacena.ifsudestemg.edu.br/destaques/alunos-servidores-campus-barbacena-apresentam-trabalho-vlll-semana-pesquisa-extensao-lll-s\n",
      "http://www.barbacena.ifsudestemg.edu.br/destaques/projeto-if-sudeste-mg-campus-barbacena-atende-comunidade-ponto-chique-martelo-seu-entorno\n",
      "http://www.barbacena.ifsudestemg.edu.br/destaques/professora-curso-tecnico-agroindustria-integrado-ao-ensino-medio-fala-armazenamento-alimen\n"
     ]
    },
    {
     "data": {
      "text/plain": [
       "['http://www.barbacena.ifsudestemg.edu.br/destaques/servidores-alunos-neabi-nucleo-estudos-afro-brasileiro-indigena-campus-barbacena-participa',\n",
       " 'http://www.barbacena.ifsudestemg.edu.br/destaques/alunos-campus-barbacena-participam-projeto-%E2%80%9Cavaliacao-cana-acucar-hidrolisada-equinos%E2%80%9D',\n",
       " 'http://www.barbacena.ifsudestemg.edu.br/destaques/alunos-servidores-campus-barbacena-apresentam-trabalho-vlll-semana-pesquisa-extensao-lll-s',\n",
       " 'http://www.barbacena.ifsudestemg.edu.br/destaques/projeto-if-sudeste-mg-campus-barbacena-atende-comunidade-ponto-chique-martelo-seu-entorno',\n",
       " 'http://www.barbacena.ifsudestemg.edu.br/destaques/professora-curso-tecnico-agroindustria-integrado-ao-ensino-medio-fala-armazenamento-alimen']"
      ]
     },
     "execution_count": 58,
     "metadata": {},
     "output_type": "execute_result"
    }
   ],
   "source": [
    "trazer_mais_proximas('''Servidores e alunos do NEABI - Núcleo de Estudos Afro-Brasileiro e Indígena do Campus Barbacena participaram no dia 06 de novembro de 2018, do III ERAS - Encontro de Relações Raciais e Sociedade, no Campus João del-Rei.\n",
    "\n",
    "Representado pelos servidores Adriano José Boratto e Vilma Maria Azevedo, foram ofertadas atividades no campo étnico-racial: Oficina de Capoeira e Oficina de Arte-Educação na Valorização da Cultura Africana; apresentação cultural: Dança Cênica Afro-brasileira; Banda Pitanga: Música Afro-brasileira Memorial a Clementina de Jesus; Apresentação Cultural de Capoeira e o Desafio de Hip-Hop.\n",
    "\n",
    "Os estudantes participantes deste evento são integrantes dos projetos de extensão de abordagem étnico-racial, coordenado pelos membros do NEABI e pela servidora Leila Maria Pereira. Também participaram e integraram a equipe dezesseis estudantes das escolas públicas do Município, a Instituição São Miguel Arcanjo e da Escola Quilombola do Ponto Chique do Martelo; a diretora e uma professora da Escola Quilombola e quatro colaboradores externos voluntários dos projetos de extensão em questão, em especial Luciana de Oliveira (teatróloga); Flávia Sol (psicopedagoga); Talita S. de Paula da Silva (mestranda na UFSJ em Artes, Urbanidade e Sustentabilidade e Pedro Machado Caetano (músico).''')"
   ]
  },
  {
   "cell_type": "code",
   "execution_count": null,
   "metadata": {},
   "outputs": [],
   "source": [
    "df.iloc[577].doc"
   ]
  }
 ],
 "metadata": {
  "kernelspec": {
   "display_name": "Python 3",
   "language": "python",
   "name": "python3"
  },
  "language_info": {
   "codemirror_mode": {
    "name": "ipython",
    "version": 3
   },
   "file_extension": ".py",
   "mimetype": "text/x-python",
   "name": "python",
   "nbconvert_exporter": "python",
   "pygments_lexer": "ipython3",
   "version": "3.7.0"
  }
 },
 "nbformat": 4,
 "nbformat_minor": 2
}
