{
 "cells": [
  {
   "cell_type": "code",
   "execution_count": 28,
   "metadata": {},
   "outputs": [],
   "source": [
    "import pandas as pd\n",
    "import requests\n",
    "from bs4 import BeautifulSoup\n",
    "import _thread\n",
    "import os\n",
    "from nltk import word_tokenize\n",
    "import nltk\n",
    "from string import punctuation\n",
    "from collections import Counter"
   ]
  },
  {
   "cell_type": "code",
   "execution_count": 21,
   "metadata": {},
   "outputs": [],
   "source": [
    "stopwords = nltk.corpus.stopwords.words('portuguese')\n",
    "numbers = '0123456789'"
   ]
  },
  {
   "cell_type": "code",
   "execution_count": 43,
   "metadata": {},
   "outputs": [],
   "source": [
    "def pre_processar(texto):\n",
    "    texto = ' '.join([t for t in word_tokenize(texto.lower()) if (t not in stopwords) and (t not in punctuation + numbers)])\n",
    "    return Counter(word_tokenize(texto))"
   ]
  },
  {
   "cell_type": "code",
   "execution_count": 126,
   "metadata": {},
   "outputs": [],
   "source": [
    "def contar_busca(query):\n",
    "    filename = \"buscas.csv\"\n",
    "    if os.path.exists(filename):\n",
    "        df = pd.read_csv('buscas.csv')\n",
    "        dic = pre_processar(query)\n",
    "        for word in dic.keys():\n",
    "            if word in df:\n",
    "                df[word] = df[word] + 1\n",
    "            else:\n",
    "                df[word] = 1\n",
    "        df.to_csv(filename, index=False)\n",
    "    else:\n",
    "        dic = pre_processar(query)\n",
    "        df = pd.DataFrame(dic, index=['0',])\n",
    "        df.to_csv(filename, index=False)"
   ]
  },
  {
   "cell_type": "code",
   "execution_count": 161,
   "metadata": {},
   "outputs": [],
   "source": [
    "def top_10_buscas():\n",
    "    filename = \"buscas.csv\"\n",
    "    if os.path.exists(filename):\n",
    "        df = pd.read_csv('buscas.csv')\n",
    "        dic = df.to_dict(orient='split')\n",
    "        dic = dict(zip(dic['columns'], dic['data'][0]))\n",
    "        return sorted(dic.items(), key=lambda kv: kv[1], reverse=True)\n",
    "    return []"
   ]
  },
  {
   "cell_type": "code",
   "execution_count": 141,
   "metadata": {},
   "outputs": [
    {
     "data": {
      "text/html": [
       "<div>\n",
       "<style scoped>\n",
       "    .dataframe tbody tr th:only-of-type {\n",
       "        vertical-align: middle;\n",
       "    }\n",
       "\n",
       "    .dataframe tbody tr th {\n",
       "        vertical-align: top;\n",
       "    }\n",
       "\n",
       "    .dataframe thead th {\n",
       "        text-align: right;\n",
       "    }\n",
       "</style>\n",
       "<table border=\"1\" class=\"dataframe\">\n",
       "  <thead>\n",
       "    <tr style=\"text-align: right;\">\n",
       "      <th></th>\n",
       "      <th>ola</th>\n",
       "      <th>amigo</th>\n",
       "      <th>camara</th>\n",
       "    </tr>\n",
       "  </thead>\n",
       "  <tbody>\n",
       "    <tr>\n",
       "      <th>0</th>\n",
       "      <td>2</td>\n",
       "      <td>1</td>\n",
       "      <td>1</td>\n",
       "    </tr>\n",
       "  </tbody>\n",
       "</table>\n",
       "</div>"
      ],
      "text/plain": [
       "   ola  amigo  camara\n",
       "0    2      1       1"
      ]
     },
     "execution_count": 141,
     "metadata": {},
     "output_type": "execute_result"
    }
   ],
   "source": [
    "df = pd.read_csv('buscas.csv')\n",
    "df"
   ]
  },
  {
   "cell_type": "code",
   "execution_count": 162,
   "metadata": {},
   "outputs": [
    {
     "data": {
      "text/plain": [
       "[('camara', 3), ('ola', 2), ('amigo', 1)]"
      ]
     },
     "execution_count": 162,
     "metadata": {},
     "output_type": "execute_result"
    }
   ],
   "source": [
    "dic = top_10_buscas()\n",
    "dic"
   ]
  },
  {
   "cell_type": "code",
   "execution_count": 147,
   "metadata": {},
   "outputs": [],
   "source": [
    "contar_busca(\"camara\")"
   ]
  },
  {
   "cell_type": "code",
   "execution_count": 2,
   "metadata": {},
   "outputs": [],
   "source": [
    "URL = \"https://g1.globo.com/index/feed/pagina-{0}.ghtml\""
   ]
  },
  {
   "cell_type": "code",
   "execution_count": 3,
   "metadata": {},
   "outputs": [],
   "source": [
    "def save(filename, df):\n",
    "    if os.path.exists(filename):\n",
    "        df.to_csv(filename, mode='a', index=False, header=False)\n",
    "    else:\n",
    "        df.to_csv(filename, index=False)"
   ]
  },
  {
   "cell_type": "code",
   "execution_count": 4,
   "metadata": {},
   "outputs": [],
   "source": [
    "def gravar(dados):\n",
    "    df = pd.DataFrame(dados, columns=['link', 'img_url', 'titulo', 'subtitulo', 'descricao'])\n",
    "    save('noticias_globo.csv', df)"
   ]
  },
  {
   "cell_type": "code",
   "execution_count": 5,
   "metadata": {},
   "outputs": [],
   "source": [
    "#904\n",
    "def buscar_noticias():\n",
    "    dados = []\n",
    "\n",
    "    for i in range(999, 2000):\n",
    "        print(f\"Página: {i}\", end=\"\\r\")\n",
    "        html = requests.get(URL.format(i)).text\n",
    "        soup = BeautifulSoup(html, 'html.parser')\n",
    "        for d in soup.find_all('div', class_='bastian-feed-item'):\n",
    "            title = d.find('a').string\n",
    "            link = \"\"\n",
    "            try:\n",
    "                link = d.find('a')['href']\n",
    "            except:\n",
    "                continue\n",
    "            subtitle = \"\"\n",
    "            try:\n",
    "                subtitle = d.find_all('div', class_='feed-post-body-resumo')[0].string\n",
    "            except:\n",
    "                subtitle = \"\"\n",
    "            html = \"\"\n",
    "            try:\n",
    "                html = requests.get(link).text\n",
    "            except:\n",
    "                continue\n",
    "            soup = BeautifulSoup(html, 'html.parser')\n",
    "            img = \"\"\n",
    "            try:\n",
    "                d = soup.find_all('img', class_=\"image\")[0]\n",
    "                img = d['data-src']\n",
    "            except:\n",
    "                img = \"https://s.glbimg.com/jo/g1/static/live/imagens/img_facebook.png\"\n",
    "            content = \"\"\n",
    "            \n",
    "            try:\n",
    "                docs = soup.find_all('div', class_=\"wall protected-content\")[0]\n",
    "                for i in docs.find_all('div', class_=\"mc-column\"):\n",
    "                    if i.find('p') != None and i.find('p').string != None:\n",
    "                        content += str(i.find('p').string)\n",
    "            except:\n",
    "                continue\n",
    "            dados.append((link, img, title, subtitle, content))\n",
    "            if len(dados) > 250:\n",
    "                gravar(dados)\n",
    "                dados = []\n",
    "    return \"Ok\""
   ]
  },
  {
   "cell_type": "code",
   "execution_count": 6,
   "metadata": {},
   "outputs": [
    {
     "name": "stdout",
     "output_type": "stream",
     "text": [
      "Página: 1999\r"
     ]
    },
    {
     "data": {
      "text/plain": [
       "'Ok'"
      ]
     },
     "execution_count": 6,
     "metadata": {},
     "output_type": "execute_result"
    }
   ],
   "source": [
    "buscar_noticias()"
   ]
  }
 ],
 "metadata": {
  "kernelspec": {
   "display_name": "Python 3",
   "language": "python",
   "name": "python3"
  },
  "language_info": {
   "codemirror_mode": {
    "name": "ipython",
    "version": 3
   },
   "file_extension": ".py",
   "mimetype": "text/x-python",
   "name": "python",
   "nbconvert_exporter": "python",
   "pygments_lexer": "ipython3",
   "version": "3.7.0"
  }
 },
 "nbformat": 4,
 "nbformat_minor": 2
}
